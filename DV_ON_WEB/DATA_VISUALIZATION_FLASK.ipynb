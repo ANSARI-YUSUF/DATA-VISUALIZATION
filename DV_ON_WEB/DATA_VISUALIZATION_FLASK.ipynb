{
 "cells": [
  {
   "cell_type": "code",
   "execution_count": 6,
   "id": "8bd5ce7a-565d-4dbd-b3a8-f3167cfc611b",
   "metadata": {},
   "outputs": [
    {
     "name": "stdout",
     "output_type": "stream",
     "text": [
      "           date category region  price  quantity    sales     cost  profit  \\\n",
      "0    01-01-2024        A  North  58.15        33  1927.73  1362.08  565.65   \n",
      "1    02-01-2024        C  North  38.53        11   364.65   293.17   71.48   \n",
      "2    03-01-2024        B   West  76.34        27  2129.34  1260.88  868.46   \n",
      "3    04-01-2024        B   East  24.42        31   759.02   395.14  363.88   \n",
      "4    05-01-2024        C  South  27.33        21   522.63   267.46  255.17   \n",
      "..          ...      ...    ...    ...       ...      ...      ...     ...   \n",
      "115  25-04-2024        C  South  18.22        26   466.15   268.15  198.00   \n",
      "116  26-04-2024        A   West  55.75        27  1504.17  1342.88  161.29   \n",
      "117  27-04-2024        A  South  20.68        24   561.56   471.29   90.27   \n",
      "118  28-04-2024        B  South  29.33        21   586.62   454.31  132.31   \n",
      "119  29-04-2024        A   East  78.68        15  1189.33   772.41  416.92   \n",
      "\n",
      "     visitors  temperature_c  rating  conversion_rate  \n",
      "0         130          19.60     4.7            0.056  \n",
      "1         159          20.39     4.8            0.070  \n",
      "2         162          21.09     4.8            0.079  \n",
      "3         163          20.13     2.8            0.084  \n",
      "4         158          20.61     3.9            0.065  \n",
      "..        ...            ...     ...              ...  \n",
      "115       182          22.45     4.6            0.058  \n",
      "116       221          22.40     4.5            0.068  \n",
      "117       184          22.12     3.6            0.095  \n",
      "118       210          18.31     4.0            0.059  \n",
      "119       202          17.59     3.3            0.065  \n",
      "\n",
      "[120 rows x 12 columns]\n",
      " * Serving Flask app '__main__'\n",
      " * Debug mode: on\n"
     ]
    },
    {
     "name": "stderr",
     "output_type": "stream",
     "text": [
      "WARNING: This is a development server. Do not use it in a production deployment. Use a production WSGI server instead.\n",
      " * Running on http://127.0.0.1:5000\n",
      "Press CTRL+C to quit\n",
      " * Restarting with watchdog (windowsapi)\n"
     ]
    },
    {
     "ename": "SystemExit",
     "evalue": "1",
     "output_type": "error",
     "traceback": [
      "An exception has occurred, use %tb to see the full traceback.\n",
      "\u001b[1;31mSystemExit\u001b[0m\u001b[1;31m:\u001b[0m 1\n"
     ]
    },
    {
     "name": "stderr",
     "output_type": "stream",
     "text": [
      "C:\\ProgramData\\anaconda3\\Lib\\site-packages\\IPython\\core\\interactiveshell.py:3585: UserWarning: To exit: use 'exit', 'quit', or Ctrl-D.\n",
      "  warn(\"To exit: use 'exit', 'quit', or Ctrl-D.\", stacklevel=1)\n"
     ]
    }
   ],
   "source": [
    "# from flask import Flask, jsonify,request, Response\n",
    "\n",
    "\n",
    "# import pandas as pd\n",
    "# import numpy as np\n",
    "# import matplotlib.pyplot as plt\n",
    "# from mpl_toolkits.mplot3d import Axes3D \n",
    "# import io \n",
    "\n",
    "# #____Chart Type Load dataset\n",
    "# df = pd.read_csv('Sample.csv', parse_dates=['date'])\n",
    "# print(df)\n",
    "\n",
    "\n",
    "\n",
    "# app = Flask(__name__)\n",
    "\n",
    "\n",
    "# # Home route\n",
    "# @app.route(\"/\")\n",
    "# def home():\n",
    "#     return \"Welcome to the Simple Flask API!\"\n",
    "\n",
    "\n",
    "# @app.route(\"/show\")\n",
    "# def show():\n",
    "    \n",
    "#     #____Chart Type 1. Line Plot\n",
    "#     plt.figure()\n",
    "#     plt.plot(df['date'], df['sales'])\n",
    "#     plt.title('Sales Over Time')\n",
    "#     plt.xlabel('Date')\n",
    "#     plt.ylabel('Sales')\n",
    "#     plt.grid(True)\n",
    "#     plt.legend(loc=\"upper left\")\n",
    "\n",
    "    \n",
    "#     # Save plot to in-memory buffer\n",
    "#     buf = io.BytesIO()\n",
    "#     plt.savefig(buf, format='png')\n",
    "#     plt.close()  # Close the plot to free memory\n",
    "#     buf.seek(0)\n",
    "\n",
    "#     return Response(buf.getvalue(), mimetype='image/png')\n",
    "\n",
    "# if __name__ == \"__main__\":\n",
    "#     app.run(debug=True)\n"
   ]
  },
  {
   "cell_type": "code",
   "execution_count": 7,
   "id": "caca89b9-195a-4e37-822c-07722ee00b0d",
   "metadata": {},
   "outputs": [
    {
     "name": "stdout",
     "output_type": "stream",
     "text": [
      "           date category region  price  quantity    sales     cost  profit  \\\n",
      "0    01-01-2024        A  North  58.15        33  1927.73  1362.08  565.65   \n",
      "1    02-01-2024        C  North  38.53        11   364.65   293.17   71.48   \n",
      "2    03-01-2024        B   West  76.34        27  2129.34  1260.88  868.46   \n",
      "3    04-01-2024        B   East  24.42        31   759.02   395.14  363.88   \n",
      "4    05-01-2024        C  South  27.33        21   522.63   267.46  255.17   \n",
      "..          ...      ...    ...    ...       ...      ...      ...     ...   \n",
      "115  25-04-2024        C  South  18.22        26   466.15   268.15  198.00   \n",
      "116  26-04-2024        A   West  55.75        27  1504.17  1342.88  161.29   \n",
      "117  27-04-2024        A  South  20.68        24   561.56   471.29   90.27   \n",
      "118  28-04-2024        B  South  29.33        21   586.62   454.31  132.31   \n",
      "119  29-04-2024        A   East  78.68        15  1189.33   772.41  416.92   \n",
      "\n",
      "     visitors  temperature_c  rating  conversion_rate  \n",
      "0         130          19.60     4.7            0.056  \n",
      "1         159          20.39     4.8            0.070  \n",
      "2         162          21.09     4.8            0.079  \n",
      "3         163          20.13     2.8            0.084  \n",
      "4         158          20.61     3.9            0.065  \n",
      "..        ...            ...     ...              ...  \n",
      "115       182          22.45     4.6            0.058  \n",
      "116       221          22.40     4.5            0.068  \n",
      "117       184          22.12     3.6            0.095  \n",
      "118       210          18.31     4.0            0.059  \n",
      "119       202          17.59     3.3            0.065  \n",
      "\n",
      "[120 rows x 12 columns]\n",
      " * Serving Flask app '__main__'\n",
      " * Debug mode: on\n"
     ]
    },
    {
     "name": "stderr",
     "output_type": "stream",
     "text": [
      "WARNING: This is a development server. Do not use it in a production deployment. Use a production WSGI server instead.\n",
      " * Running on http://127.0.0.1:5000\n",
      "Press CTRL+C to quit\n",
      " * Restarting with watchdog (windowsapi)\n"
     ]
    },
    {
     "ename": "SystemExit",
     "evalue": "1",
     "output_type": "error",
     "traceback": [
      "An exception has occurred, use %tb to see the full traceback.\n",
      "\u001b[1;31mSystemExit\u001b[0m\u001b[1;31m:\u001b[0m 1\n"
     ]
    },
    {
     "name": "stderr",
     "output_type": "stream",
     "text": [
      "C:\\ProgramData\\anaconda3\\Lib\\site-packages\\IPython\\core\\interactiveshell.py:3585: UserWarning: To exit: use 'exit', 'quit', or Ctrl-D.\n",
      "  warn(\"To exit: use 'exit', 'quit', or Ctrl-D.\", stacklevel=1)\n"
     ]
    }
   ],
   "source": [
    "from flask import Flask, jsonify, request, Response\n",
    "import pandas as pd\n",
    "import numpy as np\n",
    "import matplotlib.pyplot as plt\n",
    "from mpl_toolkits.mplot3d import Axes3D \n",
    "import io\n",
    "\n",
    "# Load dataset\n",
    "df = pd.read_csv('Sample.csv', parse_dates=['date'])\n",
    "print(df)\n",
    "\n",
    "app = Flask(__name__)\n",
    "\n",
    "# Home route\n",
    "@app.route(\"/\")\n",
    "def home():\n",
    "    return \"Welcome to the Simple Flask API!\"\n",
    "\n",
    "# Route to show plot\n",
    "@app.route(\"/show\")\n",
    "def show():\n",
    "    # Create line plot\n",
    "    plt.figure()\n",
    "    plt.plot(df['date'], df['sales'], label='Sales')\n",
    "    plt.title('Sales Over Time')\n",
    "    plt.xlabel('Date')\n",
    "    plt.ylabel('Sales')\n",
    "    plt.grid(True)\n",
    "    plt.legend(loc=\"upper left\")\n",
    "\n",
    "    # Save plot to in-memory buffer\n",
    "    buf = io.BytesIO()\n",
    "    plt.savefig(buf, format='png')\n",
    "    plt.close()\n",
    "    buf.seek(0)\n",
    "\n",
    "    return Response(buf.getvalue(), mimetype='image/png')\n",
    "\n",
    "if __name__ == \"__main__\":\n",
    "    app.run(debug=True)\n"
   ]
  },
  {
   "cell_type": "code",
   "execution_count": null,
   "id": "7aa8e5a8-0b30-4aea-a431-a071bf2821a5",
   "metadata": {},
   "outputs": [],
   "source": []
  }
 ],
 "metadata": {
  "kernelspec": {
   "display_name": "Python [conda env:base] *",
   "language": "python",
   "name": "conda-base-py"
  },
  "language_info": {
   "codemirror_mode": {
    "name": "ipython",
    "version": 3
   },
   "file_extension": ".py",
   "mimetype": "text/x-python",
   "name": "python",
   "nbconvert_exporter": "python",
   "pygments_lexer": "ipython3",
   "version": "3.12.7"
  }
 },
 "nbformat": 4,
 "nbformat_minor": 5
}
