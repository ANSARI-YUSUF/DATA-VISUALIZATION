{
 "cells": [
  {
   "cell_type": "code",
   "execution_count": 1,
   "id": "d8d37a05-8dfc-47c2-bbae-71fbc7cf387b",
   "metadata": {},
   "outputs": [
    {
     "name": "stdout",
     "output_type": "stream",
     "text": [
      " * Serving Flask app '__main__'\n",
      " * Debug mode: on\n"
     ]
    },
    {
     "name": "stderr",
     "output_type": "stream",
     "text": [
      "WARNING: This is a development server. Do not use it in a production deployment. Use a production WSGI server instead.\n",
      " * Running on http://127.0.0.1:5000\n",
      "Press CTRL+C to quit\n",
      " * Restarting with watchdog (windowsapi)\n"
     ]
    },
    {
     "ename": "SystemExit",
     "evalue": "1",
     "output_type": "error",
     "traceback": [
      "An exception has occurred, use %tb to see the full traceback.\n",
      "\u001b[1;31mSystemExit\u001b[0m\u001b[1;31m:\u001b[0m 1\n"
     ]
    },
    {
     "name": "stderr",
     "output_type": "stream",
     "text": [
      "C:\\ProgramData\\anaconda3\\Lib\\site-packages\\IPython\\core\\interactiveshell.py:3585: UserWarning: To exit: use 'exit', 'quit', or Ctrl-D.\n",
      "  warn(\"To exit: use 'exit', 'quit', or Ctrl-D.\", stacklevel=1)\n"
     ]
    }
   ],
   "source": [
    "from flask import Flask, render_template, request, url_for\n",
    "import matplotlib\n",
    "matplotlib.use(\"Agg\")\n",
    "import matplotlib.pyplot as plt\n",
    "import numpy as np\n",
    "import io, base64\n",
    "\n",
    "app = Flask(__name__)\n",
    "\n",
    "def fig_to_base64():\n",
    "    buf = io.BytesIO()\n",
    "    plt.savefig(buf, format=\"png\", bbox_inches=\"tight\")\n",
    "    buf.seek(0)\n",
    "    img_b64 = base64.b64encode(buf.getvalue()).decode(\"utf-8\")\n",
    "    plt.close()\n",
    "    return img_b64\n",
    "\n",
    "categories = [\"A\", \"B\", \"C\", \"D\", \"E\"]\n",
    "values = [23, 45, 12, 30, 18]\n",
    "x = np.arange(1, 11)\n",
    "y = np.array([2, 3, 5, 6, 7, 9, 11, 10, 12, 14])\n",
    "hist_data = np.random.normal(loc=50, scale=12, size=300)\n",
    "\n",
    "@app.route(\"/\")\n",
    "def home():\n",
    "    menu = [\n",
    "        {\"name\": \"Bar\", \"endpoint\": url_for('chart', ctype='bar')},\n",
    "        {\"name\": \"Pie\", \"endpoint\": url_for('chart', ctype='pie')},\n",
    "        {\"name\": \"Line\", \"endpoint\": url_for('chart', ctype='line')},\n",
    "        {\"name\": \"Histogram\", \"endpoint\": url_for('chart', ctype='hist')},\n",
    "    ]\n",
    "    return render_template(\"index.html\", menu=menu)\n",
    "\n",
    "@app.route(\"/chart/<ctype>\")\n",
    "def chart(ctype):\n",
    "    title = \"\"\n",
    "\n",
    "    if ctype == \"bar\":\n",
    "        title = \"Bar Chart\"\n",
    "        plt.figure()\n",
    "        plt.bar(categories, values)\n",
    "        plt.xlabel(\"Category\")\n",
    "        plt.ylabel(\"Value\")\n",
    "        plt.title(title)\n",
    "\n",
    "    elif ctype == \"pie\":\n",
    "        title = \"Pie Chart\"\n",
    "        plt.figure()\n",
    "        plt.pie(values, labels=categories, autopct=\"%1.1f%%\", startangle=90)\n",
    "        plt.title(title)\n",
    "        plt.axis(\"equal\")\n",
    "\n",
    "    elif ctype == \"line\":\n",
    "        title = \"Line Chart\"\n",
    "        plt.figure()\n",
    "        plt.plot(x, y, marker=\"o\")\n",
    "        plt.xlabel(\"X\")\n",
    "        plt.ylabel(\"Y\")\n",
    "        plt.title(title)\n",
    "        plt.grid(True, linestyle=\"--\", alpha=0.5)\n",
    "\n",
    "    elif ctype == \"hist\":\n",
    "        title = \"Histogram\"\n",
    "        plt.figure()\n",
    "        plt.hist(hist_data, bins=20)\n",
    "        plt.title(title)\n",
    "        plt.xlabel(\"Value\")\n",
    "        plt.ylabel(\"Frequency\")\n",
    "        plt.grid(True, linestyle=\"--\", alpha=0.5)\n",
    "\n",
    "    else:\n",
    "        return \"Unknown chart type.\", 400\n",
    "\n",
    "    img_b64 = fig_to_base64()\n",
    "    menu = [\n",
    "        {\"name\": \"Bar\", \"endpoint\": url_for('chart', ctype='bar')},\n",
    "        {\"name\": \"Pie\", \"endpoint\": url_for('chart', ctype='pie')},\n",
    "        {\"name\": \"Line\", \"endpoint\": url_for('chart', ctype='line')},\n",
    "        {\"name\": \"Histogram\", \"endpoint\": url_for('chart', ctype='hist')},\n",
    "    ]\n",
    "    return render_template(\"chart.html\", chart_title=title, img_b64=img_b64, menu=menu)\n",
    "\n",
    "if __name__ == \"__main__\":\n",
    "    app.run(debug=True)"
   ]
  },
  {
   "cell_type": "code",
   "execution_count": null,
   "id": "13d15975-b15e-4932-b7d5-ec4a1caf745c",
   "metadata": {},
   "outputs": [],
   "source": []
  }
 ],
 "metadata": {
  "kernelspec": {
   "display_name": "Python [conda env:base] *",
   "language": "python",
   "name": "conda-base-py"
  },
  "language_info": {
   "codemirror_mode": {
    "name": "ipython",
    "version": 3
   },
   "file_extension": ".py",
   "mimetype": "text/x-python",
   "name": "python",
   "nbconvert_exporter": "python",
   "pygments_lexer": "ipython3",
   "version": "3.12.7"
  }
 },
 "nbformat": 4,
 "nbformat_minor": 5
}
