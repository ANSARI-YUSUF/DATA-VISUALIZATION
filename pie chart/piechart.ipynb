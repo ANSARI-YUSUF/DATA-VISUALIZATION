{
 "cells": [
  {
   "cell_type": "code",
   "execution_count": 8,
   "id": "9a9929f8-ce63-4e9f-a979-72a5cb5dec60",
   "metadata": {},
   "outputs": [
    {
     "name": "stderr",
     "output_type": "stream",
     "text": [
      "Matplotlib is building the font cache; this may take a moment.\n"
     ]
    }
   ],
   "source": [
    "import matplotlib.pyplot as plt\n",
    "import pandas as pd\n",
    "import numpy as np\n",
    "\n"
   ]
  },
  {
   "cell_type": "code",
   "execution_count": 4,
   "id": "63f09a97-6a27-41fb-9a19-a66f0ca59752",
   "metadata": {},
   "outputs": [],
   "source": [
    "df=pd.read_csv(\"student.csv\")"
   ]
  },
  {
   "cell_type": "code",
   "execution_count": 5,
   "id": "f20989e6-0d10-486c-847d-6d1b5119d544",
   "metadata": {},
   "outputs": [
    {
     "data": {
      "text/html": [
       "<div>\n",
       "<style scoped>\n",
       "    .dataframe tbody tr th:only-of-type {\n",
       "        vertical-align: middle;\n",
       "    }\n",
       "\n",
       "    .dataframe tbody tr th {\n",
       "        vertical-align: top;\n",
       "    }\n",
       "\n",
       "    .dataframe thead th {\n",
       "        text-align: right;\n",
       "    }\n",
       "</style>\n",
       "<table border=\"1\" class=\"dataframe\">\n",
       "  <thead>\n",
       "    <tr style=\"text-align: right;\">\n",
       "      <th></th>\n",
       "      <th>SID</th>\n",
       "      <th>Student_Name</th>\n",
       "      <th>Age</th>\n",
       "      <th>DOB</th>\n",
       "      <th>Per(%)</th>\n",
       "      <th>Percentage</th>\n",
       "      <th>Percentage_Past</th>\n",
       "      <th>Subject</th>\n",
       "    </tr>\n",
       "  </thead>\n",
       "  <tbody>\n",
       "    <tr>\n",
       "      <th>0</th>\n",
       "      <td>1</td>\n",
       "      <td>Bhat Mansi</td>\n",
       "      <td>20</td>\n",
       "      <td>05-05-2000</td>\n",
       "      <td>70</td>\n",
       "      <td>70</td>\n",
       "      <td>75</td>\n",
       "      <td>WAD</td>\n",
       "    </tr>\n",
       "    <tr>\n",
       "      <th>1</th>\n",
       "      <td>2</td>\n",
       "      <td>Bhavnagari Azba Ashfaq</td>\n",
       "      <td>20</td>\n",
       "      <td>06-05-2000</td>\n",
       "      <td>50</td>\n",
       "      <td>50</td>\n",
       "      <td>50</td>\n",
       "      <td>Python</td>\n",
       "    </tr>\n",
       "    <tr>\n",
       "      <th>2</th>\n",
       "      <td>3</td>\n",
       "      <td>Chaudhari Nehakumari Balubhai</td>\n",
       "      <td>21</td>\n",
       "      <td>07-05-2000</td>\n",
       "      <td>60</td>\n",
       "      <td>60</td>\n",
       "      <td>60</td>\n",
       "      <td>Python</td>\n",
       "    </tr>\n",
       "    <tr>\n",
       "      <th>3</th>\n",
       "      <td>4</td>\n",
       "      <td>Chavada Rajadip Nathabhai</td>\n",
       "      <td>22</td>\n",
       "      <td>08-05-2000</td>\n",
       "      <td>70</td>\n",
       "      <td>70</td>\n",
       "      <td>70</td>\n",
       "      <td>Python</td>\n",
       "    </tr>\n",
       "    <tr>\n",
       "      <th>4</th>\n",
       "      <td>5</td>\n",
       "      <td>Chudasma Avniba Dilubha</td>\n",
       "      <td>22</td>\n",
       "      <td>09-05-2000</td>\n",
       "      <td>75</td>\n",
       "      <td>75</td>\n",
       "      <td>75</td>\n",
       "      <td>Python</td>\n",
       "    </tr>\n",
       "  </tbody>\n",
       "</table>\n",
       "</div>"
      ],
      "text/plain": [
       "   SID                   Student_Name  Age         DOB  Per(%)  Percentage  \\\n",
       "0    1                     Bhat Mansi   20  05-05-2000      70          70   \n",
       "1    2         Bhavnagari Azba Ashfaq   20  06-05-2000      50          50   \n",
       "2    3  Chaudhari Nehakumari Balubhai   21  07-05-2000      60          60   \n",
       "3    4      Chavada Rajadip Nathabhai   22  08-05-2000      70          70   \n",
       "4    5        Chudasma Avniba Dilubha   22  09-05-2000      75          75   \n",
       "\n",
       "   Percentage_Past Subject  \n",
       "0               75     WAD  \n",
       "1               50  Python  \n",
       "2               60  Python  \n",
       "3               70  Python  \n",
       "4               75  Python  "
      ]
     },
     "execution_count": 5,
     "metadata": {},
     "output_type": "execute_result"
    }
   ],
   "source": [
    "df.head()"
   ]
  },
  {
   "cell_type": "code",
   "execution_count": 11,
   "id": "73aee0c5-69b9-4c3c-9c6c-f5d336ab494e",
   "metadata": {},
   "outputs": [],
   "source": [
    "# Extract data\n",
    "labels = df['Student_Name']\n",
    "sizes = df['Subject'].value_counts()"
   ]
  },
  {
   "cell_type": "code",
   "execution_count": 12,
   "id": "411c4bae-c699-4e76-b1f0-63bd22fa2004",
   "metadata": {},
   "outputs": [
    {
     "data": {
      "text/plain": [
       "<Figure size 600x600 with 0 Axes>"
      ]
     },
     "execution_count": 12,
     "metadata": {},
     "output_type": "execute_result"
    },
    {
     "data": {
      "text/plain": [
       "<Figure size 600x600 with 0 Axes>"
      ]
     },
     "metadata": {},
     "output_type": "display_data"
    }
   ],
   "source": [
    "# Plot the pie chart\n",
    "plt.figure(figsize=(6, 6))"
   ]
  },
  {
   "cell_type": "code",
   "execution_count": 15,
   "id": "60a03435-c00e-457b-b32e-6f557734671a",
   "metadata": {},
   "outputs": [
    {
     "data": {
      "text/plain": [
       "([<matplotlib.patches.Wedge at 0x211e0e61c70>,\n",
       "  <matplotlib.patches.Wedge at 0x211e0e36e40>,\n",
       "  <matplotlib.patches.Wedge at 0x211e0e600b0>],\n",
       " [Text(-0.7070663706551935, -0.8426488874308757, 'WAD'),\n",
       "  Text(0.9328528948568521, 0.5829112081245232, 'Python'),\n",
       "  Text(-0.5829112299595214, 0.9328528812128298, 'Networking')],\n",
       " [Text(-0.38567256581192366, -0.45962666587138673, '50.0%'),\n",
       "  Text(0.5088288517401011, 0.31795156806792174, '40.0%'),\n",
       "  Text(-0.31795157997792073, 0.5088288442979071, '10.0%')])"
      ]
     },
     "execution_count": 15,
     "metadata": {},
     "output_type": "execute_result"
    },
    {
     "data": {
      "image/png": "[encoded data removed]",
      "text/plain": [
       "<Figure size 640x480 with 1 Axes>"
      ]
     },
     "metadata": {},
     "output_type": "display_data"
    }
   ],
   "source": [
    "\n",
    "plt.pie(sizes, labels=sizes.index, autopct='%1.1f%%', startangle=140)\n"
   ]
  },
  {
   "cell_type": "code",
   "execution_count": null,
   "id": "f9e4d382-b027-4ac8-ac14-def8c2af4991",
   "metadata": {},
   "outputs": [],
   "source": []
  }
 ],
 "metadata": {
  "kernelspec": {
   "display_name": "Python [conda env:base] *",
   "language": "python",
   "name": "conda-base-py"
  },
  "language_info": {
   "codemirror_mode": {
    "name": "ipython",
    "version": 3
   },
   "file_extension": ".py",
   "mimetype": "text/x-python",
   "name": "python",
   "nbconvert_exporter": "python",
   "pygments_lexer": "ipython3",
   "version": "3.12.7"
  }
 },
 "nbformat": 4,
 "nbformat_minor": 5
}
